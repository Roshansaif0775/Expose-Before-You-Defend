{
 "cells": [
  {
   "cell_type": "code",
   "execution_count": 1,
   "id": "ebffc91e",
   "metadata": {},
   "outputs": [],
   "source": [
    "import numpy as np\n",
    "import torch\n",
    "import torch.nn as nn\n",
    "import logging\n",
    "import argparse\n",
    "import os\n",
    "from resnet_cifar import resnet18 as resnet18_cifar\n",
    "\n",
    "from poison_tool_cifar import get_test_loader, get_train_loader, split_dataset\n",
    "import unlearn"
   ]
  },
  {
   "cell_type": "code",
   "execution_count": 2,
   "id": "e934c87f",
   "metadata": {},
   "outputs": [],
   "source": [
    "if torch.cuda.is_available():\n",
    "    torch.backends.cudnn.enabled = True\n",
    "    torch.backends.cudnn.benchmark = True\n",
    "    device = torch.device('cuda')\n",
    "else:\n",
    "    device = torch.device('cpu')\n",
    "\n",
    "seed = 98\n",
    "torch.backends.cudnn.deterministic = True\n",
    "torch.backends.cudnn.benchmark = False\n",
    "torch.manual_seed(seed)\n",
    "np.random.seed(seed)"
   ]
  },
  {
   "cell_type": "code",
   "execution_count": 3,
   "id": "158206c4",
   "metadata": {},
   "outputs": [],
   "source": [
    "logger = logging.getLogger(__name__)\n",
    "logging.basicConfig(\n",
    "    format='[%(asctime)s] - %(message)s',\n",
    "    datefmt='%Y/%m/%d %H:%M:%S',\n",
    "    level=logging.DEBUG,\n",
    "    handlers=[\n",
    "        logging.FileHandler('output.log'),\n",
    "        logging.StreamHandler()\n",
    "    ])\n",
    "\n",
    "parser = argparse.ArgumentParser()\n",
    "parser.add_argument('--target_label', type=int, default=0, help='class of target label')\n",
    "parser.add_argument('--trigger_type', type=str, default='gridTrigger', help='type of backdoor trigger')\n",
    "parser.add_argument('--target_type', type=str, default='all2one', help='type of backdoor label')\n",
    "parser.add_argument('--trig_w', type=int, default=3, help='width of trigger pattern')\n",
    "parser.add_argument('--trig_h', type=int, default=3, help='height of trigger pattern')\n",
    "\n",
    "parser.add_argument('--dataset', type=str, default='CIFAR10', help='type of dataset')\n",
    "parser.add_argument('--ratio', type=int, default=0.01, help='ratio of defense data')\n",
    "parser.add_argument('--batch_size', type=int, default=128)\n",
    "parser.add_argument('--num_classes', type=int, default=10)\n",
    "\n",
    "parser.add_argument('--backdoor_model_path', type=str,\n",
    "                    default='weights/ResNet18-ResNet-BadNets-target0-portion0.1-epoch80.tar',\n",
    "                    help='path of backdoored model')\n",
    "parser.add_argument('--output_model_path', type=str,\n",
    "                    default=None, help='path of unlearned backdoored model')\n",
    "parser.add_argument('--arch', type=str, default='resnet18',\n",
    "                    choices=['resnet18', 'resnet34', 'resnet50', 'resnet101', 'resnet152', 'MobileNetV2',\n",
    "                             'vgg19_bn'])\n",
    "\n",
    "args = parser.parse_args([])"
   ]
  },
  {
   "cell_type": "code",
   "execution_count": 4,
   "id": "85df8d31",
   "metadata": {},
   "outputs": [
    {
     "name": "stdout",
     "output_type": "stream",
     "text": [
      "total data size: 49500 images, split test size: 500 images, split ratio: 0.010000\n",
      "==> Preparing test data..\n",
      "Files already downloaded and verified\n",
      "Generating testbad Imgs\n"
     ]
    },
    {
     "name": "stderr",
     "output_type": "stream",
     "text": [
      "100%|██████████████████████████████████| 10000/10000 [00:00<00:00, 24370.82it/s]\n"
     ]
    },
    {
     "name": "stdout",
     "output_type": "stream",
     "text": [
      "Injecting Over: 0Bad Imgs, 10000Clean Imgs\n",
      "Generating testbad Imgs\n"
     ]
    },
    {
     "name": "stderr",
     "output_type": "stream",
     "text": [
      "100%|██████████████████████████████████| 10000/10000 [00:00<00:00, 19847.11it/s]\n",
      "[2024/01/22 18:28:35] - ----------- Data Initialization --------------\n",
      "[2024/01/22 18:28:35] - ----------- Model Initialization --------------\n"
     ]
    },
    {
     "name": "stdout",
     "output_type": "stream",
     "text": [
      "Injecting Over: 9000Bad Imgs, 1000Clean Imgs\n"
     ]
    },
    {
     "name": "stderr",
     "output_type": "stream",
     "text": [
      "[2024/01/22 18:28:37] - ----------- Model Exposing Strategy --------------\n",
      "[2024/01/22 18:28:37] - Namespace(target_label=0, trigger_type='gridTrigger', target_type='all2one', trig_w=3, trig_h=3, dataset='CIFAR10', ratio=0.01, batch_size=128, num_classes=10, backdoor_model_path='weights/ResNet18-ResNet-BadNets-target0-portion0.1-epoch80.tar', output_model_path=None, arch='resnet18', print_every=500, unlearn_epochs=20, lr=0.002, sched_gamma=0.1, sched_ms=[20, 20], stop_acc=0.1, device='cuda')\n"
     ]
    },
    {
     "name": "stdout",
     "output_type": "stream",
     "text": [
      "full_acc: {'epoch': 0, 'lr': 1e-05, 'acc': 0.97, 'asr': 1.0, 'cls_pred': [0.116, 0.09, 0.112, 0.126, 0.092, 0.078, 0.1, 0.106, 0.088, 0.092]}\n",
      "full_acc: {'epoch': 1, 'lr': 1e-05, 'acc': 0.97, 'asr': 1.0, 'cls_pred': [0.114, 0.092, 0.116, 0.128, 0.094, 0.07, 0.102, 0.108, 0.09, 0.086]}\n",
      "full_acc: {'epoch': 2, 'lr': 1e-05, 'acc': 0.98, 'asr': 1.0, 'cls_pred': [0.112, 0.092, 0.114, 0.13, 0.092, 0.072, 0.102, 0.106, 0.092, 0.088]}\n",
      "full_acc: {'epoch': 3, 'lr': 1e-05, 'acc': 0.96, 'asr': 1.0, 'cls_pred': [0.114, 0.092, 0.11, 0.13, 0.098, 0.066, 0.102, 0.108, 0.092, 0.088]}\n",
      "full_acc: {'epoch': 4, 'lr': 1e-05, 'acc': 0.96, 'asr': 1.0, 'cls_pred': [0.124, 0.092, 0.118, 0.126, 0.092, 0.07, 0.102, 0.106, 0.086, 0.084]}\n",
      "full_acc: {'epoch': 5, 'lr': 1e-05, 'acc': 0.96, 'asr': 1.0, 'cls_pred': [0.114, 0.094, 0.12, 0.136, 0.092, 0.068, 0.096, 0.106, 0.088, 0.086]}\n",
      "full_acc: {'epoch': 6, 'lr': 1e-05, 'acc': 0.94, 'asr': 1.0, 'cls_pred': [0.124, 0.094, 0.124, 0.134, 0.092, 0.062, 0.098, 0.106, 0.088, 0.078]}\n",
      "full_acc: {'epoch': 7, 'lr': 1e-05, 'acc': 0.93, 'asr': 1.0, 'cls_pred': [0.128, 0.092, 0.122, 0.15, 0.094, 0.05, 0.094, 0.108, 0.088, 0.074]}\n",
      "full_acc: {'epoch': 8, 'lr': 1e-05, 'acc': 0.9, 'asr': 1.0, 'cls_pred': [0.134, 0.096, 0.126, 0.162, 0.092, 0.042, 0.084, 0.108, 0.09, 0.066]}\n",
      "full_acc: {'epoch': 9, 'lr': 1e-05, 'acc': 0.91, 'asr': 1.0, 'cls_pred': [0.136, 0.096, 0.118, 0.16, 0.088, 0.052, 0.096, 0.104, 0.082, 0.068]}\n",
      "full_acc: {'epoch': 10, 'lr': 1e-05, 'acc': 0.85, 'asr': 1.0, 'cls_pred': [0.15, 0.098, 0.128, 0.182, 0.086, 0.042, 0.086, 0.1, 0.076, 0.052]}\n",
      "full_acc: {'epoch': 11, 'lr': 1e-05, 'acc': 0.83, 'asr': 1.0, 'cls_pred': [0.174, 0.09, 0.134, 0.184, 0.088, 0.03, 0.074, 0.104, 0.072, 0.05]}\n",
      "full_acc: {'epoch': 12, 'lr': 1e-05, 'acc': 0.76, 'asr': 1.0, 'cls_pred': [0.208, 0.086, 0.126, 0.226, 0.086, 0.016, 0.056, 0.094, 0.068, 0.034]}\n",
      "full_acc: {'epoch': 13, 'lr': 1e-05, 'acc': 0.7, 'asr': 1.0, 'cls_pred': [0.238, 0.086, 0.118, 0.252, 0.086, 0.016, 0.038, 0.086, 0.064, 0.016]}\n",
      "full_acc: {'epoch': 14, 'lr': 1e-05, 'acc': 0.56, 'asr': 1.0, 'cls_pred': [0.344, 0.066, 0.106, 0.288, 0.06, 0.008, 0.018, 0.066, 0.04, 0.004]}\n",
      "full_acc: {'epoch': 15, 'lr': 1e-05, 'acc': 0.45, 'asr': 1.0, 'cls_pred': [0.42, 0.048, 0.092, 0.318, 0.05, 0.0, 0.012, 0.038, 0.02, 0.002]}\n",
      "full_acc: {'epoch': 16, 'lr': 1e-05, 'acc': 0.31, 'asr': 1.0, 'cls_pred': [0.534, 0.016, 0.064, 0.328, 0.028, 0.0, 0.004, 0.02, 0.006, 0.0]}\n",
      "full_acc: {'epoch': 17, 'lr': 1e-05, 'acc': 0.2, 'asr': 1.0, 'cls_pred': [0.606, 0.01, 0.04, 0.334, 0.006, 0.0, 0.0, 0.002, 0.002, 0.0]}\n",
      "full_acc: {'epoch': 18, 'lr': 1e-05, 'acc': 0.12, 'asr': 1.0, 'cls_pred': [0.718, 0.0, 0.026, 0.256, 0.0, 0.0, 0.0, 0.0, 0.0, 0.0]}\n",
      "full_acc: {'epoch': 19, 'lr': 1e-05, 'acc': 0.1, 'asr': 1.0, 'cls_pred': [0.876, 0.0, 0.006, 0.118, 0.0, 0.0, 0.0, 0.0, 0.0, 0.0]}\n",
      "full_acc: {'epoch': 20, 'lr': 1.0000000000000002e-07, 'acc': 0.1, 'asr': 1.0, 'cls_pred': [0.968, 0.0, 0.002, 0.03, 0.0, 0.0, 0.0, 0.0, 0.0, 0.0]}\n"
     ]
    }
   ],
   "source": [
    "# split a small test subset\n",
    "from torchvision import transforms, datasets\n",
    "from torchvision.datasets import CIFAR10\n",
    "from torch.utils.data import random_split, DataLoader, Dataset\n",
    "\n",
    "MEAN_CIFAR10 = (0.4914, 0.4822, 0.4465)\n",
    "STD_CIFAR10 = (0.2023, 0.1994, 0.2010)\n",
    "\n",
    "tf_train = transforms.Compose([\n",
    "transforms.RandomCrop(32, padding=4),\n",
    "transforms.RandomHorizontalFlip(),\n",
    "transforms.ToTensor(),\n",
    "transforms.Normalize(MEAN_CIFAR10, STD_CIFAR10)\n",
    "])\n",
    "\n",
    "\n",
    "clean_train = CIFAR10(root='/media/user/8961e245-931a-4871-9f74-9df58b1bd938/server/lyg/LfF-master(2)/data/CIFAR10', train=True, download=False, transform=tf_train)\n",
    "\n",
    " # split a small test subset\n",
    "_, split_set = split_dataset(clean_train, frac=0.01)\n",
    "defense_data_loader = DataLoader(split_set, batch_size=128, shuffle=True, num_workers=4)\n",
    "\n",
    "# defense_data_loader = get_train_loader(args)\n",
    "clean_test_loader, bad_test_loader = get_test_loader(args)\n",
    "\n",
    "logger.info('----------- Data Initialization --------------')\n",
    "data_loader = {'defense_loader': defense_data_loader,\n",
    "               'clean_test_loader': clean_test_loader,\n",
    "               'bad_test_loader': bad_test_loader\n",
    "               }\n",
    "\n",
    "logger.info('----------- Model Initialization --------------')\n",
    "net = resnet18_cifar(num_classes=10, norm_layer=None)\n",
    "checkpoint = torch.load('/media/user/HP USB321FD/ResNet18-ResNet-BadNets-target0-portion0.1-epoch80(1).tar')\n",
    "net.load_state_dict(checkpoint['state_dict'])\n",
    "net = net.to(device)\n",
    "\n",
    "logger.info('----------- Model Exposing Strategy --------------')\n",
    "\n",
    "unlearn = unlearn.Unlearning(args, logger, net, data_loader)\n",
    "unlearn.do_expose()"
   ]
  },
  {
   "cell_type": "code",
   "execution_count": null,
   "id": "655dc948",
   "metadata": {},
   "outputs": [],
   "source": []
  }
 ],
 "metadata": {
  "kernelspec": {
   "display_name": "Python 3 (ipykernel)",
   "language": "python",
   "name": "python3"
  },
  "language_info": {
   "codemirror_mode": {
    "name": "ipython",
    "version": 3
   },
   "file_extension": ".py",
   "mimetype": "text/x-python",
   "name": "python",
   "nbconvert_exporter": "python",
   "pygments_lexer": "ipython3",
   "version": "3.9.12"
  }
 },
 "nbformat": 4,
 "nbformat_minor": 5
}
